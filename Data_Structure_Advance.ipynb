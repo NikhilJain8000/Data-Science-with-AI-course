{
  "nbformat": 4,
  "nbformat_minor": 0,
  "metadata": {
    "colab": {
      "provenance": [],
      "authorship_tag": "ABX9TyO8Pt/3Tdk+dGTOsGYCaXOJ",
      "include_colab_link": true
    },
    "kernelspec": {
      "name": "python3",
      "display_name": "Python 3"
    },
    "language_info": {
      "name": "python"
    }
  },
  "cells": [
    {
      "cell_type": "markdown",
      "metadata": {
        "id": "view-in-github",
        "colab_type": "text"
      },
      "source": [
        "<a href=\"https://colab.research.google.com/github/NikhilJain8000/Data-Science-with-AI-course/blob/main/Data_Structure_Advance.ipynb\" target=\"_parent\"><img src=\"https://colab.research.google.com/assets/colab-badge.svg\" alt=\"Open In Colab\"/></a>"
      ]
    },
    {
      "cell_type": "code",
      "execution_count": 1,
      "metadata": {
        "colab": {
          "base_uri": "https://localhost:8080/"
        },
        "id": "X8j76fHbaaBh",
        "outputId": "ed9aed39-0ffb-49b8-b0b7-8f6ec301a8c7"
      },
      "outputs": [
        {
          "output_type": "stream",
          "name": "stdout",
          "text": [
            "Enter a string you want to reverse Nikhil Jain\n",
            "niaJ lihkiN\n"
          ]
        }
      ],
      "source": [
        "#1.  Write a code to reverse a string?\n",
        "s1=input(\"Enter a string you want to reverse \")\n",
        "print(s1[::-1])"
      ]
    },
    {
      "cell_type": "code",
      "source": [
        "#2.  Write a code to count the number of vowels in a string?\n",
        "s2=input(\"Enter a string \")\n",
        "count=0\n",
        "for i in s2:\n",
        "  if i in \"aeiouAEIOU\":\n",
        "    count+=1\n",
        "print(\"The number of vowels in your given string is \" ,count)"
      ],
      "metadata": {
        "colab": {
          "base_uri": "https://localhost:8080/"
        },
        "id": "H2DB9JWbavGR",
        "outputId": "47f8e198-e0d2-498a-9fba-831035f861ec"
      },
      "execution_count": 3,
      "outputs": [
        {
          "output_type": "stream",
          "name": "stdout",
          "text": [
            "Enter a string Nikhil Jain\n",
            "The number of vowels in your given string is  4\n"
          ]
        }
      ]
    },
    {
      "cell_type": "code",
      "source": [
        "#3. Write a code to check if a given string is a palindrome or not?\n",
        "s3= input(\"Enter a string to check for palindrome \")\n",
        "palindrome=True\n",
        "for i in range(len(s3)//2):\n",
        "  if s3[i]!=s3[-i-1]:\n",
        "    palindrome=False\n",
        "    break\n",
        "if palindrome:\n",
        "  print(\"The given string is a palindrome\")"
      ],
      "metadata": {
        "colab": {
          "base_uri": "https://localhost:8080/"
        },
        "id": "KWP8CUDlavJy",
        "outputId": "5e01ef40-cb40-4b95-ab74-3542db205a13"
      },
      "execution_count": 4,
      "outputs": [
        {
          "output_type": "stream",
          "name": "stdout",
          "text": [
            "Enter a string to check for palindrome naman\n",
            "The given string is a palindrome\n"
          ]
        }
      ]
    },
    {
      "cell_type": "code",
      "source": [
        "#4. Write a code to check if two given strings are anagrams of each other?\n",
        "s41=input(\"Enter the first string \")\n",
        "s42=input(\"Enter the second string \")\n",
        "if sorted(s41)==sorted(s42):\n",
        "  print(\"The given strings are anagrams of each other\")\n",
        "else :\n",
        "  print(\"The given strings are not anagrams of each other\")"
      ],
      "metadata": {
        "colab": {
          "base_uri": "https://localhost:8080/"
        },
        "id": "gD7WdyTQavNQ",
        "outputId": "86303b98-1b4a-429e-f5e0-0a0452154bfb"
      },
      "execution_count": 7,
      "outputs": [
        {
          "output_type": "stream",
          "name": "stdout",
          "text": [
            "Enter the first string secure\n",
            "Enter the second string rescue\n",
            "The given strings are anagrams of each other\n"
          ]
        }
      ]
    },
    {
      "cell_type": "code",
      "source": [
        "#5. Write a code to find all occurrences of a given substring within another string?\n",
        "s51=input(\"Enter the string \")\n",
        "s52=input(\"Enter the substring \")\n",
        "for i in range(len(s51)):\n",
        "  if s51[i:i+len(s52)]==s52:\n",
        "    print(\"The substring is found at index \" ,i)\n"
      ],
      "metadata": {
        "colab": {
          "base_uri": "https://localhost:8080/"
        },
        "id": "8vjjXsjhf-QQ",
        "outputId": "f889b4fd-2802-4750-d4a0-76b6587d4c4d"
      },
      "execution_count": 10,
      "outputs": [
        {
          "output_type": "stream",
          "name": "stdout",
          "text": [
            "Enter the string aaabbccddabbcdabbcd\n",
            "Enter the substring abb\n",
            "The substring is found at index  2\n",
            "The substring is found at index  9\n",
            "The substring is found at index  14\n"
          ]
        }
      ]
    },
    {
      "cell_type": "code",
      "source": [
        "#6. Write a code to perform basic string compression using the counts of repeated characters?\n",
        "s6=input(\"Enter a string you want to compress\")\n",
        "compressed_string=''\n",
        "count=1\n",
        "for i in range(len(s6)-1):\n",
        "  if s6[i]==s6[i+1]:\n",
        "    count+=1\n",
        "  else:\n",
        "    compressed_string+=s6[i]+str(count)\n",
        "    count=1\n",
        "compressed_string+=s6[-1]+str(count)\n",
        "print(\"The compressed string is \" ,compressed_string)"
      ],
      "metadata": {
        "colab": {
          "base_uri": "https://localhost:8080/"
        },
        "id": "mexM1kL5avT2",
        "outputId": "9a05dbdb-20a1-4fbd-c2fa-dd35ad4ca3da"
      },
      "execution_count": 3,
      "outputs": [
        {
          "output_type": "stream",
          "name": "stdout",
          "text": [
            "Enter a string you want to compressaaaabbccde\n",
            "The compressed string is  a4b2c2d1e1\n"
          ]
        }
      ]
    },
    {
      "cell_type": "code",
      "source": [
        "#7. Write a code to determine if a string has all unique characters?\n",
        "s7=input(\"Enter a string \")\n",
        "unique=True\n",
        "for i in s7:\n",
        "  if s7.count(i)>1:\n",
        "    unique=False\n",
        "    break\n",
        "if unique:\n",
        "  print(\"The given string has all unique characters\")"
      ],
      "metadata": {
        "id": "OuIWymP8avW5"
      },
      "execution_count": null,
      "outputs": []
    },
    {
      "cell_type": "code",
      "source": [
        "#8. Write a code to convert a given string to uppercase or lowercase?\n",
        "s8=input(\"Enter a string \")\n",
        "print(\"The uppercase of the given string is \" ,s8.upper())\n",
        "print(\"The lowercase of the given string is \" ,s8.lower())"
      ],
      "metadata": {
        "colab": {
          "base_uri": "https://localhost:8080/"
        },
        "id": "lBbAlJHFavaV",
        "outputId": "ddebd8db-28b3-47d9-a68e-7927db638636"
      },
      "execution_count": 13,
      "outputs": [
        {
          "output_type": "stream",
          "name": "stdout",
          "text": [
            "Enter a string HGSAHndjsf\n",
            "The uppercase of the given string is  HGSAHNDJSF\n",
            "The lowercase of the given string is  hgsahndjsf\n"
          ]
        }
      ]
    },
    {
      "cell_type": "code",
      "source": [
        "#9. Write a code to count the number of words in a string?\n",
        "s9=input(\"Enter a string  \")\n",
        "print(\"The number of words in the given string is \" ,len(s9.split()))"
      ],
      "metadata": {
        "colab": {
          "base_uri": "https://localhost:8080/"
        },
        "id": "2uOMIuRtavdl",
        "outputId": "0cd62e8e-2453-4c84-d6b7-6ebf2f1152ef"
      },
      "execution_count": 16,
      "outputs": [
        {
          "output_type": "stream",
          "name": "stdout",
          "text": [
            "Enter a string  my name is nikhil jain\n",
            "The number of words in the given string is  5\n"
          ]
        }
      ]
    },
    {
      "cell_type": "code",
      "source": [
        "#10. Write a code to concatenate two strings without using the + operator?\n",
        "s10a=input(\"Enter the first string \")\n",
        "s10b=input(\"Enter the second string \")\n",
        "combined_string=''\n",
        "for i in s10a:\n",
        "  combined_string+=i\n",
        "for i in s10b:\n",
        "  combined_string+=i\n",
        "print('The combined string is ' ,combined_string)"
      ],
      "metadata": {
        "colab": {
          "base_uri": "https://localhost:8080/"
        },
        "id": "FR86a9Gcavg6",
        "outputId": "d9736b11-a168-4ee3-894b-692228d58020"
      },
      "execution_count": 5,
      "outputs": [
        {
          "output_type": "stream",
          "name": "stdout",
          "text": [
            "Enter the first string abcd\n",
            "Enter the second string efgh\n",
            "The combined string is  abcdefgh\n"
          ]
        }
      ]
    },
    {
      "cell_type": "code",
      "source": [
        "#11. Write a code to remove all occurrences of a specific element from a list?\n",
        "l1= input(\"Enter a list using commas in between elements \").split(',')\n",
        "e1=input(\"Enter the element you want to remove from the list \")\n",
        "\n",
        "i = 0  # Index pointer\n",
        "while i < len(l1):\n",
        "    if l1[i] == e1:\n",
        "        l1.pop(i)  # Remove the element\n",
        "    else:\n",
        "        i += 1  # Move to the next index only if no removal\n",
        "\n",
        "# Print the modified list\n",
        "print(\"Modified list:\", l1)\n",
        "\n"
      ],
      "metadata": {
        "colab": {
          "base_uri": "https://localhost:8080/"
        },
        "id": "AEIVnDXsavkW",
        "outputId": "6a111c42-f8a8-4967-a381-a62542b8ad80"
      },
      "execution_count": 15,
      "outputs": [
        {
          "output_type": "stream",
          "name": "stdout",
          "text": [
            "Enter a list using commas in between elements 12,12,34,556,232,12\n",
            "Enter the element you want to remove from the list 12\n",
            "Modified list: ['34', '556', '232']\n"
          ]
        }
      ]
    },
    {
      "cell_type": "code",
      "source": [
        "#12. Implement a code to find the second largest number in a given list of integers?\n",
        "l2= list(map(int,input(\"Enter the list elements using commas \").split(\",\")))\n",
        "Second_largest_number=sorted(l2)[-2]\n",
        "print(f\"The second largest number in the list is {Second_largest_number}\")"
      ],
      "metadata": {
        "colab": {
          "base_uri": "https://localhost:8080/"
        },
        "id": "KTHKNcksavur",
        "outputId": "015db530-d54d-4941-abdd-1faa06fa682b"
      },
      "execution_count": 28,
      "outputs": [
        {
          "output_type": "stream",
          "name": "stdout",
          "text": [
            "Enter the list elements using commas 2342,534523,35,235,234,53\n",
            "The second largest number in the list is 2342\n"
          ]
        }
      ]
    },
    {
      "cell_type": "code",
      "source": [
        "#13.  Create a code to count the occurrences of each element in a list and return a dictionary with elements as keys and their counts as values?\n",
        "l3= input(\"Enter the list elements using commas \").split(\",\")\n",
        "occurrences={}\n",
        "for i in l3:\n",
        "  if i in occurrences:\n",
        "    occurrences[i]+=1\n",
        "  else:\n",
        "    occurrences[i]=1\n",
        "print(occurrences)\n"
      ],
      "metadata": {
        "colab": {
          "base_uri": "https://localhost:8080/"
        },
        "id": "USl-EGjp6pdX",
        "outputId": "f683bec2-afdd-4387-cbe5-f2e3c6c9273f"
      },
      "execution_count": 33,
      "outputs": [
        {
          "output_type": "stream",
          "name": "stdout",
          "text": [
            "Enter the list elements using commas apple,banana,apple,banana,orange,orange,orange\n",
            "{'apple': 2, 'banana': 2, 'orange': 3}\n"
          ]
        }
      ]
    },
    {
      "cell_type": "code",
      "source": [
        "#14. Write a code to reverse a list in-place without using any built-in reverse functions\n",
        "l4= input(\"Enter the list elements using commas \").split(\",\")\n",
        "l4=l4[::-1]\n",
        "print(l4)"
      ],
      "metadata": {
        "colab": {
          "base_uri": "https://localhost:8080/"
        },
        "id": "41Bmw_T16piI",
        "outputId": "15d050cd-6f3e-40d8-ad60-81d0bfca4486"
      },
      "execution_count": 34,
      "outputs": [
        {
          "output_type": "stream",
          "name": "stdout",
          "text": [
            "Enter the list elements using commas 12,43,3,25,234,43,45,4\n",
            "['4', '45', '43', '234', '25', '3', '43', '12']\n"
          ]
        }
      ]
    },
    {
      "cell_type": "code",
      "source": [
        "#15. Implement a code to find and remove duplicates from a list while preserving the original order of elements?\n",
        "l5= input(\"Enter the list elements using commas \").split(\",\")\n",
        "unique_list=[]\n",
        "for i in l5:\n",
        "  if i not in unique_list:\n",
        "    unique_list.append(i)\n",
        "print(unique_list)"
      ],
      "metadata": {
        "colab": {
          "base_uri": "https://localhost:8080/"
        },
        "id": "vguRa_yn6pli",
        "outputId": "b7f6e799-832a-41d4-89da-e2bdf40696ba"
      },
      "execution_count": 35,
      "outputs": [
        {
          "output_type": "stream",
          "name": "stdout",
          "text": [
            "Enter the list elements using commas 12,2,3423,44534,543,33,33,33\n",
            "['12', '2', '3423', '44534', '543', '33']\n"
          ]
        }
      ]
    },
    {
      "cell_type": "code",
      "source": [
        "#16. Create a code to check if a given list is sorted (either in ascending or descending order) or not?\n",
        "l6=list(map(int, input(\"Enter your list \").split(',')))\n",
        "if sorted(l6) == l6 or sorted(l6, reverse=True) == l6:\n",
        "  print(\"The given list is sorted\")\n",
        "else:\n",
        "  print(\"The given list is not sorted\")\n"
      ],
      "metadata": {
        "colab": {
          "base_uri": "https://localhost:8080/"
        },
        "id": "MbWMydiu6po6",
        "outputId": "beee810f-ed9b-47b1-cede-adff7400e570"
      },
      "execution_count": 2,
      "outputs": [
        {
          "output_type": "stream",
          "name": "stdout",
          "text": [
            "Enter your list1,3,45,677,884\n",
            "The given list is sorted\n"
          ]
        }
      ]
    },
    {
      "cell_type": "code",
      "source": [
        "#17. Write a code to merge two sorted lists into a single sorted list?\n",
        "l71=list(map(int, input(\"Enter your list 1 \").split(',')))\n",
        "l72=list(map(int, input(\"Enter your list 2 \").split(',')))\n",
        "l71= sorted(l71)\n",
        "l72= sorted(l72)\n",
        "lmerge=sorted(l71+l72)\n",
        "print(lmerge)"
      ],
      "metadata": {
        "colab": {
          "base_uri": "https://localhost:8080/"
        },
        "id": "nh76hUJz6pvZ",
        "outputId": "e51c95da-05d0-49ca-af25-11fb00b7c75b"
      },
      "execution_count": 4,
      "outputs": [
        {
          "output_type": "stream",
          "name": "stdout",
          "text": [
            "Enter your list 1 1,2,3,6576,87\n",
            "Enter your list 2 332,4354,54,443,3454\n",
            "[1, 2, 3, 54, 87, 332, 443, 3454, 4354, 6576]\n"
          ]
        }
      ]
    },
    {
      "cell_type": "code",
      "source": [
        "#18. Implement a code to find the intersection of two given lists?\n",
        "l81=list(map(int, input(\"Enter your list 1 \").split(',')))\n",
        "l82=list(map(int, input(\"Enter your list 2 \").split(',')))\n",
        "litc=[]\n",
        "for i in l81:\n",
        "  for j in l82:\n",
        "    if i==j:\n",
        "      litc.append(i)\n",
        "      break\n",
        "    else:\n",
        "      continue\n",
        "print(\"The intersection of two given list is \", litc)"
      ],
      "metadata": {
        "colab": {
          "base_uri": "https://localhost:8080/"
        },
        "id": "dY4_9h536p0L",
        "outputId": "3896ca1c-a146-48f7-ffe4-b7825db85d1d"
      },
      "execution_count": 6,
      "outputs": [
        {
          "output_type": "stream",
          "name": "stdout",
          "text": [
            "Enter your list 1 1,2,3,6576,87\n",
            "Enter your list 2 2,2,2,445,644,87\n",
            "The intersection of two given list is  [2, 87]\n"
          ]
        }
      ]
    },
    {
      "cell_type": "code",
      "source": [
        "#19. Create a code to find the union of two lists without duplicates?\n",
        "l91=list(map(int, input(\"Enter your list 1 \").split(',')))\n",
        "l92=list(map(int, input(\"Enter your list 2 \").split(',')))\n",
        "lunion=[]\n",
        "for i in l91:\n",
        "  if i not in lunion:\n",
        "    lunion.append(i)\n",
        "for j in l92:\n",
        "  if j not in lunion:\n",
        "    lunion.append(j)\n",
        "print(\"The union of two given list is \", lunion)"
      ],
      "metadata": {
        "colab": {
          "base_uri": "https://localhost:8080/"
        },
        "id": "ho0Yn08F6p3_",
        "outputId": "54c2791d-1cbb-4eb5-df7e-b959836382c9"
      },
      "execution_count": 1,
      "outputs": [
        {
          "output_type": "stream",
          "name": "stdout",
          "text": [
            "Enter your list 1 1,2,3,6576,87\n",
            "Enter your list 2 2,2,2,445,644,87\n",
            "The union of two given list is  [1, 2, 3, 6576, 87, 445, 644]\n"
          ]
        }
      ]
    },
    {
      "cell_type": "code",
      "source": [
        "#20. Write a code to shuffle a given list randomly without using any built-in shuffle functions?\n",
        "l10=list(map(int, input(\"Enter your list \").split(',')))\n",
        "import random\n",
        "# Shuffle the list manually\n",
        "for i in range(len(l10) - 1, 0, -1):  # Start from the end of the list\n",
        "    j = random.randint(0, i)  # Get a random index from 0 to i\n",
        "    # Swap elements at indices i and j\n",
        "    l10[i], l10[j] = l10[j], l10[i]\n",
        "\n",
        "# Print the shuffled list\n",
        "print(\"Shuffled list:\", l10)"
      ],
      "metadata": {
        "colab": {
          "base_uri": "https://localhost:8080/"
        },
        "id": "6aBEVLUq6p7P",
        "outputId": "1e47630f-978c-4fbe-f391-e9d5ce7a67bc"
      },
      "execution_count": 2,
      "outputs": [
        {
          "output_type": "stream",
          "name": "stdout",
          "text": [
            "Enter your list 1,2,3,6576,87\n",
            "Shuffled list: [6576, 87, 3, 1, 2]\n"
          ]
        }
      ]
    },
    {
      "cell_type": "code",
      "source": [
        "#21. Write a code that takes two tuples as input and returns a new tuple containing elements that are common to both input tuples?\n",
        "t11=tuple(map(int, input(\"Enter your tuple 1 \").split(',')))\n",
        "t12=tuple(map(int, input(\"Enter your tuple 2 \").split(',')))\n",
        "titc=()\n",
        "for i in t21:\n",
        "  for j in t22:\n",
        "    if i==j:\n",
        "      titc+=(i,)\n",
        "    else:\n",
        "      continue\n",
        "print(\"The intersection of two given tuple is \", titc)"
      ],
      "metadata": {
        "colab": {
          "base_uri": "https://localhost:8080/"
        },
        "id": "fR_hopeI6qCF",
        "outputId": "9f9d83a2-a617-44b3-bec4-f4e41dc61a04"
      },
      "execution_count": 3,
      "outputs": [
        {
          "output_type": "stream",
          "name": "stdout",
          "text": [
            "Enter your tuple 1 1,2,3,6576,87\n",
            "Enter your tuple 2 2,2,2,445,644,87\n",
            "The intersection of two given tuple is  (2, 2, 2, 87)\n"
          ]
        }
      ]
    },
    {
      "cell_type": "code",
      "source": [
        "#22. Create a code that prompts the user to enter two sets of integers separated by commas. Then, print the intersection of these two sets?\n",
        "s11=set(map(int, input(\"Enter your set 1 \").split(',')))\n",
        "s12=set(map(int, input(\"Enter your set 2 \").split(',')))\n",
        "sitc=s11.intersection(s12)\n",
        "print(\"The intersection of two given set is \", sitc)"
      ],
      "metadata": {
        "colab": {
          "base_uri": "https://localhost:8080/"
        },
        "id": "nnW_mrdVmNmw",
        "outputId": "df17214f-2dfd-4f0b-fe63-dde06ac7e98c"
      },
      "execution_count": 4,
      "outputs": [
        {
          "output_type": "stream",
          "name": "stdout",
          "text": [
            "Enter your set 1 1,2,3,6576,87\n",
            "Enter your set 2 2,2,2,445,644,87\n",
            "The intersection of two given set is  {2, 87}\n"
          ]
        }
      ]
    },
    {
      "cell_type": "code",
      "source": [
        "#23. Write a code to concatenate two tuples. The function should take two tuples as input and return a new tuple containing elements from both input tuples.?\n",
        "t21=tuple(map(int, input(\"Enter your tuple 1 \").split(',')))\n",
        "t22=tuple(map(int, input(\"Enter your tuple 2 \").split(',')))\n",
        "tmerge=t21+t22\n",
        "print(\"The merged tuple is \", tmerge)"
      ],
      "metadata": {
        "colab": {
          "base_uri": "https://localhost:8080/"
        },
        "id": "vaA10znkmNtS",
        "outputId": "0818c8af-5d39-4b9b-a7eb-69d5f53b2057"
      },
      "execution_count": 6,
      "outputs": [
        {
          "output_type": "stream",
          "name": "stdout",
          "text": [
            "Enter your tuple 1 1,2,3,6576,87\n",
            "Enter your tuple 2 2,2,2,445,644,87\n",
            "The merged tuple is  (1, 2, 3, 6576, 87, 2, 2, 2, 445, 644, 87)\n"
          ]
        }
      ]
    },
    {
      "cell_type": "code",
      "source": [
        "#24. Develop a code that prompts the user to input two sets of strings. Then, print the elements that are present in the first set but not in the second set?\n",
        "s21= set(map(str, input(\"Enter your set 1 \").split(',')))\n",
        "s22= set(map(str, input(\"Enter your set 2 \").split(',')))\n",
        "print('The required set would look like', (s21-s22))"
      ],
      "metadata": {
        "colab": {
          "base_uri": "https://localhost:8080/"
        },
        "id": "2XvfzpUDmNwo",
        "outputId": "a2191451-1741-4b89-8078-da41cf2facbc"
      },
      "execution_count": 7,
      "outputs": [
        {
          "output_type": "stream",
          "name": "stdout",
          "text": [
            "Enter your set 1 apple, banana, mango, grapes\n",
            "Enter your set 2 apple, pineapple, lichi\n",
            "The required set would look like {' mango', ' banana', ' grapes'}\n"
          ]
        }
      ]
    },
    {
      "cell_type": "code",
      "source": [
        "#25. & Create a code that takes a tuple and two integers as input. The function should return a new tuple\n",
        "#containing elements from the original tuple within the specified range of indices?\n",
        "t3=tuple(map(int, input(\"Enter your tuple 1 \").split(',')))\n",
        "print(t3)\n",
        "a=int(input(\"Enter the starting index \"))\n",
        "b=int(input(\"Enter the ending index \"))\n",
        "print (a,b)\n",
        "if a>b :\n",
        "  print ('Starting index is bigger than ending please change the values')\n",
        "  a=int(input(\"Enter the starting index \"))\n",
        "  b=int(input(\"Enter the ending index \"))\n",
        "if a>len(t3) or b>len(t3):\n",
        "  print ('Index values out of range keep them less then the length of the tuple')\n",
        "  a=int(input(\"Enter the starting index \"))\n",
        "  b=int(input(\"Enter the ending index \"))\n",
        "print(t3[a:b+1])\n",
        "\n"
      ],
      "metadata": {
        "colab": {
          "base_uri": "https://localhost:8080/"
        },
        "id": "O4VK9B6JmNz5",
        "outputId": "518c970f-a010-4143-ad4d-fe4ea5075ecd"
      },
      "execution_count": 16,
      "outputs": [
        {
          "output_type": "stream",
          "name": "stdout",
          "text": [
            "Enter your tuple 1 543634,654,654,3234,2,5434\n",
            "(543634, 654, 654, 3234, 2, 5434)\n",
            "Enter the starting index 2\n",
            "Enter the ending index 4\n",
            "2 4\n",
            "(654, 3234, 2)\n"
          ]
        }
      ]
    },
    {
      "cell_type": "code",
      "source": [
        "#26. Write a code that prompts the user to input two sets of characters. Then, print the union of these two sets?\n",
        "s31= set(map(str, input(\"Enter your set 1 \").split(',')))\n",
        "s32= set(map(str, input(\"Enter your set 2 \").split(',')))\n",
        "print(s31.union(s32))"
      ],
      "metadata": {
        "colab": {
          "base_uri": "https://localhost:8080/"
        },
        "id": "AByxVvnOmN3O",
        "outputId": "7ccab22b-c19a-4b4a-dec6-7e2709997dbd"
      },
      "execution_count": 17,
      "outputs": [
        {
          "output_type": "stream",
          "name": "stdout",
          "text": [
            "Enter your set 1 a,b,d,d,h,h,y,t\n",
            "Enter your set 2 r,r,g,h,d,j,k\n",
            "{'y', 'a', 't', 'h', 'd', 'r', 'k', 'b', 'g', 'j'}\n"
          ]
        }
      ]
    },
    {
      "cell_type": "code",
      "source": [
        "#27. Develop a code that takes a tuple of integers as input. The function should return the maximum and minimum values from the tuple using tuple unpacking?\n",
        "t4=tuple(map(int, input(\"Enter your tuple  \").split(',')))\n",
        "sorted_tuple=sorted(t4)\n",
        "print(f\"The maximum value in the tuple is {sorted_tuple[-1]} and the minimum value in the tuple is {sorted_tuple[0]}\")"
      ],
      "metadata": {
        "colab": {
          "base_uri": "https://localhost:8080/"
        },
        "id": "aDR9PXpUmN6l",
        "outputId": "fef5e683-898a-4f3e-f904-fde6efc25346"
      },
      "execution_count": 19,
      "outputs": [
        {
          "output_type": "stream",
          "name": "stdout",
          "text": [
            "Enter your tuple  25,464654,7,676,335,647,4\n",
            "The maximum value in the tuple is 464654 and the minimum value in the tuple is 4\n"
          ]
        }
      ]
    },
    {
      "cell_type": "code",
      "source": [
        "#28. Create a code that defines two sets of integers. Then, print the union, intersection, and difference of these two sets?\n",
        "s41=set(map(int, input(\"Enter your set 1 \").split(',')))\n",
        "s42=set(map(int, input(\"Enter your set 2 \").split(',')))\n",
        "print(\"The union of two given set is \", s41.union(s42))\n",
        "print(\"The intersection of two given set is \", s41.intersection(s42))\n",
        "print(\"The difference of two given set is \", s41.difference(s42))"
      ],
      "metadata": {
        "colab": {
          "base_uri": "https://localhost:8080/"
        },
        "id": "9davSsLAmN9-",
        "outputId": "4951bd9d-9ddd-4b18-c5c7-68f0d4a8b740"
      },
      "execution_count": 20,
      "outputs": [
        {
          "output_type": "stream",
          "name": "stdout",
          "text": [
            "Enter your set 1 346,564,57,467,634674,6746,7\n",
            "Enter your set 2 6,45356,367,7,564,5845\n",
            "The union of two given set is  {6, 7, 45356, 346, 367, 634674, 467, 564, 5845, 57, 6746}\n",
            "The intersection of two given set is  {564, 7}\n",
            "The difference of two given set is  {634674, 467, 6746, 57, 346}\n"
          ]
        }
      ]
    },
    {
      "cell_type": "code",
      "source": [
        "#29. Write a code that takes a tuple and an element as input. The function should return the count of occurrences of the given element in the tuple?\n",
        "t5=tuple(map(int, input(\"Enter your tuple  \").split(',')))\n",
        "element= int(input(\" Enter the element you want to count \"))\n",
        "print(f\"The count of {element} in the tuple is {t5.count(element)}\")\n"
      ],
      "metadata": {
        "colab": {
          "base_uri": "https://localhost:8080/"
        },
        "id": "AWNriVCr5-7o",
        "outputId": "8a77398c-1c15-47ce-8f1a-b187e6fdd635"
      },
      "execution_count": 21,
      "outputs": [
        {
          "output_type": "stream",
          "name": "stdout",
          "text": [
            "Enter your tuple  3,34,35,5533,3,3,3,356\n",
            " Enter the element you want to count 3\n",
            "The count of 3 in the tuple is 4\n"
          ]
        }
      ]
    },
    {
      "cell_type": "code",
      "source": [
        "#30. Develop a code that prompts the user to input two sets of strings. Then, print the symmetric difference of these two sets?\n",
        "s51= set(map(str, input(\"Enter your set 1 \").split(',')))\n",
        "s52= set(map(str, input(\"Enter your set 2 \").split(',')))\n",
        "print('The symmetric difference between these sets is', (s51^s52))"
      ],
      "metadata": {
        "colab": {
          "base_uri": "https://localhost:8080/"
        },
        "id": "8KUnBDC95_F0",
        "outputId": "e49f3c94-a17d-4286-bff8-dd252c0a46a4"
      },
      "execution_count": 23,
      "outputs": [
        {
          "output_type": "stream",
          "name": "stdout",
          "text": [
            "Enter your set 1 43543,6,4363436,3434,3,4334,5\n",
            "Enter your set 2 252,525,255,255,2672,5\n",
            "The symmetric difference between these sets is {'255', '4334', '3434', '3', '2672', '4363436', '525', '43543', '252', '6'}\n"
          ]
        }
      ]
    },
    {
      "cell_type": "code",
      "source": [
        "#31. Write a code that takes a list of words as input and returns a dictionary where the keys are unique words\n",
        "#and the values are the frequencies of those words in the input list?\n",
        "l=input(\"Enter the list words using commas \").split(\",\")\n",
        "dict={}\n",
        "for i in l:\n",
        "  if i in dict:\n",
        "    dict[i]+=1\n",
        "  else:\n",
        "    dict[i]=1\n",
        "print(dict)"
      ],
      "metadata": {
        "colab": {
          "base_uri": "https://localhost:8080/"
        },
        "id": "wgm2Vm0Y5_Jg",
        "outputId": "13ebd010-fb10-4bc3-cb95-2997b5d242b3"
      },
      "execution_count": 24,
      "outputs": [
        {
          "output_type": "stream",
          "name": "stdout",
          "text": [
            "Enter the list words using commas apple,banana,banana,grapes,papaya\n",
            "{'apple': 1, 'banana': 2, 'grapes': 1, 'papaya': 1}\n"
          ]
        }
      ]
    },
    {
      "cell_type": "code",
      "source": [
        "#32. Write a code that takes two dictionaries as input and merges them into a single dictionary. If there are common keys, the values should be added together?\n",
        "d1=eval(input(\"Enter a dictionary (e.g., {'key1': 'value1', 'key2': 'value2'}): \"))\n",
        "d2=eval(input(\"Enter a dictionary (e.g., {'key1': 'value1', 'key2': 'value2'}): \"))\n",
        "dcomb={}\n",
        "print(d1.keys())\n",
        "print(d2.keys())\n",
        "for i in d1.keys():\n",
        "  for j in d2.keys():\n",
        "    if i==j :\n",
        "        dcomb[i]=d1[i]+d2[j]\n",
        "    elif i in dcomb.keys() and  j not in dcomb.keys():\n",
        "        dcomb[j]=d2[j]\n",
        "    elif i not in dcomb.keys() and  j  in dcomb.keys():\n",
        "        dcomb[i]=d1[i]\n",
        "    else:\n",
        "        continue\n",
        "print(dcomb)"
      ],
      "metadata": {
        "colab": {
          "base_uri": "https://localhost:8080/"
        },
        "id": "SukZAr8n5_QX",
        "outputId": "6aa07361-b8bb-4ae7-adaf-010862adf013"
      },
      "execution_count": 4,
      "outputs": [
        {
          "output_type": "stream",
          "name": "stdout",
          "text": [
            "Enter a dictionary (e.g., {'key1': 'value1', 'key2': 'value2'}): {'apple':5,'banana':7,'pineapple':8}\n",
            "Enter a dictionary (e.g., {'key1': 'value1', 'key2': 'value2'}): {'apple':5,'banana':3,'grapes':10}\n",
            "dict_keys(['apple', 'banana', 'pineapple'])\n",
            "dict_keys(['apple', 'banana', 'grapes'])\n",
            "{'apple': 10, 'banana': 10, 'grapes': 10, 'pineapple': 8}\n"
          ]
        }
      ]
    },
    {
      "cell_type": "code",
      "source": [
        "#33. Write a code to access a value in a nested dictionary. The function should take the dictionary and a list of keys as input, and return the corresponding value.\n",
        "#If any of the keys do not exist in the dictionary, the function should return None?\n",
        "# Input a nested dictionary\n",
        "nested_dict = eval(input(\"Enter a nested dictionary (e.g., {'a': {'b': {'c': 42}}}): \"))\n",
        "\n",
        "# Input a list of keys\n",
        "keys = input(\"Enter the list of keys separated by spaces (e.g., a b c): \").split()\n",
        "\n",
        "# Traverse the nested dictionary to access the value\n",
        "current = nested_dict\n",
        "for key in keys:\n",
        "    if key in current:\n",
        "        current = current[key]  # Move deeper into the dictionary\n",
        "    else:\n",
        "        current = None  # Key does not exist\n",
        "        break\n",
        "\n",
        "# Print the resulting value\n",
        "print(\"Value:\", current)\n"
      ],
      "metadata": {
        "colab": {
          "base_uri": "https://localhost:8080/"
        },
        "id": "umyiMtxh5_bN",
        "outputId": "c3a90083-75ac-4843-879f-18a2a180f732"
      },
      "execution_count": 7,
      "outputs": [
        {
          "output_type": "stream",
          "name": "stdout",
          "text": [
            "Enter a nested dictionary (e.g., {'a': {'b': {'c': 42}}}): {'a': {'b': {'c': 42}}}\n",
            "Enter the list of keys separated by spaces (e.g., a b c): 42 554 534654 523\n",
            "Value: None\n"
          ]
        }
      ]
    },
    {
      "cell_type": "code",
      "source": [
        "#34. Write a code that takes a dictionary as input and returns a sorted version of it based on the values. You can choose whether to sort in ascending or descending order?\n",
        "d=eval(input(\"Enter a dictionary (e.g., {'key1': 'value1', 'key2': 'value2'}): \"))\n",
        "print(dict(sorted(d.items(), key=lambda x: x[1])))"
      ],
      "metadata": {
        "colab": {
          "base_uri": "https://localhost:8080/"
        },
        "id": "NbIsd7jL5_hQ",
        "outputId": "24e5343d-d59b-4bf8-8c4b-8eca08e04829"
      },
      "execution_count": 9,
      "outputs": [
        {
          "output_type": "stream",
          "name": "stdout",
          "text": [
            "Enter a dictionary (e.g., {'key1': 'value1', 'key2': 'value2'}): {'apple':5,'banana':3}\n",
            "{'banana': 3, 'apple': 5}\n"
          ]
        }
      ]
    },
    {
      "cell_type": "code",
      "source": [
        "#35. Write a code that inverts a dictionary, swapping keys and values. Ensure that the inverted dictionary\n",
        "#correctly handles cases where multiple keys have the same value by storing the keys as a list in the inverted dictionary.\n",
        "# Input dictionary from the user\n",
        "original_dict = eval(input(\"Enter a dictionary (e.g., {'a': 1, 'b': 2, 'c': 1}): \"))\n",
        "\n",
        "# Initialize an empty dictionary for the inverted result\n",
        "inverted_dict = {}\n",
        "\n",
        "# Iterate over the original dictionary\n",
        "for key, value in original_dict.items():\n",
        "    if value not in inverted_dict:\n",
        "        inverted_dict[value] = [key]  # Initialize a new list if the value is not in the inverted dictionary\n",
        "    else:\n",
        "        inverted_dict[value].append(key)  # Append the key to the existing list\n",
        "\n",
        "# Print the inverted dictionary\n",
        "print(\"Inverted dictionary:\", inverted_dict)\n"
      ],
      "metadata": {
        "colab": {
          "base_uri": "https://localhost:8080/"
        },
        "id": "DtlF1Ei75_mK",
        "outputId": "ac1f2253-9104-452f-ec1c-22f5074e300e"
      },
      "execution_count": 10,
      "outputs": [
        {
          "output_type": "stream",
          "name": "stdout",
          "text": [
            "Enter a dictionary (e.g., {'a': 1, 'b': 2, 'c': 1}): {'a': 1, 'b': 2, 'c': 1}\n",
            "Inverted dictionary: {1: ['a', 'c'], 2: ['b']}\n"
          ]
        }
      ]
    },
    {
      "cell_type": "code",
      "source": [],
      "metadata": {
        "id": "Ham25OWF1INr"
      },
      "execution_count": null,
      "outputs": []
    }
  ]
}