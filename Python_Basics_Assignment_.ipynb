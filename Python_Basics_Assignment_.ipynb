{
  "nbformat": 4,
  "nbformat_minor": 0,
  "metadata": {
    "colab": {
      "provenance": [],
      "authorship_tag": "ABX9TyNmnH+ZKQONt5OuEqYfCrea",
      "include_colab_link": true
    },
    "kernelspec": {
      "name": "python3",
      "display_name": "Python 3"
    },
    "language_info": {
      "name": "python"
    }
  },
  "cells": [
    {
      "cell_type": "markdown",
      "metadata": {
        "id": "view-in-github",
        "colab_type": "text"
      },
      "source": [
        "<a href=\"https://colab.research.google.com/github/NikhilJain8000/Data-Science-with-AI-course/blob/main/Python_Basics_Assignment_.ipynb\" target=\"_parent\"><img src=\"https://colab.research.google.com/assets/colab-badge.svg\" alt=\"Open In Colab\"/></a>"
      ]
    },
    {
      "cell_type": "markdown",
      "source": [
        "Q1. Explain the key features of Python that make it a popular choice for programming.\n",
        "\n",
        "Ans.  The key features of python that make it a popular choice for programming are:\n",
        "1. Easy to learn and use because of its syntax.\n",
        "2. Widely used programming language.\n",
        "3. Open Source\n",
        "4. A lot of predefined libraries which can make your code look cleaner and efficient.\n",
        "\n"
      ],
      "metadata": {
        "id": "JhPi9UGwkLmZ"
      }
    },
    {
      "cell_type": "code",
      "source": [
        "'''2. Describe the role of predefined keywords in Python and provide examples of how they are used in a program.\n",
        "Ans. The role of predefined keywords in python is to perform certain tasks which user cannot use for naming the variable.'''\n",
        "# Example we are taking input from user\n",
        "a=input(\"Please Enter your name \") #now this line signifies that the user input will be stored in 'a' variable and input is the predefined keyword to take input\n",
        "#Similary there are many other predefined keywords which are for, while ,if, else, except, break, continue and so on"
      ],
      "metadata": {
        "colab": {
          "base_uri": "https://localhost:8080/"
        },
        "id": "fEN1fKk9Z5b0",
        "outputId": "8feff97a-cc98-43f7-c03d-4af21e5b05dd"
      },
      "execution_count": null,
      "outputs": [
        {
          "name": "stdout",
          "output_type": "stream",
          "text": [
            "Please Enter your name Nikhil Jain\n"
          ]
        }
      ]
    },
    {
      "cell_type": "code",
      "source": [
        "'''3. Compare and contrast mutable and immutable objects in Python with examples.\n",
        "Ans. Mutable objects-Those objects that can be modifed after creation are known as mutable objects. Eg- Lists , Sets , Dictionary.'''\n",
        "l1= [1, 3, 'Nikhil', True, 5.454, 8+6j]\n",
        "l1[0]=200 # Lists are mutable so after creating we can change any of the index position values with different values.\n",
        "\n",
        "'''Immutable objects- Those objects that cannot be modified after creation are known as immutable objects. Eg- String, Tuples'''\n",
        "str1= \"nikhil\"\n",
        "str[0]= \"N\" # This will throw an error that item assignment is not possible in strings\n"
      ],
      "metadata": {
        "colab": {
          "base_uri": "https://localhost:8080/",
          "height": 176
        },
        "id": "Haqggt-OZ5Ra",
        "outputId": "047860ad-b0ce-4b9d-9108-de83a3e68f74"
      },
      "execution_count": null,
      "outputs": [
        {
          "output_type": "error",
          "ename": "TypeError",
          "evalue": "'type' object does not support item assignment",
          "traceback": [
            "\u001b[0;31m---------------------------------------------------------------------------\u001b[0m",
            "\u001b[0;31mTypeError\u001b[0m                                 Traceback (most recent call last)",
            "\u001b[0;32m<ipython-input-3-3cd22e6eb1d9>\u001b[0m in \u001b[0;36m<cell line: 8>\u001b[0;34m()\u001b[0m\n\u001b[1;32m      6\u001b[0m \u001b[0;34m'''Immutable objects- Those objects that cannot be modified after creation are known as immutable objects. Eg- String, Tuples'''\u001b[0m\u001b[0;34m\u001b[0m\u001b[0;34m\u001b[0m\u001b[0m\n\u001b[1;32m      7\u001b[0m \u001b[0mstr1\u001b[0m\u001b[0;34m=\u001b[0m \u001b[0;34m\"nikhil\"\u001b[0m\u001b[0;34m\u001b[0m\u001b[0;34m\u001b[0m\u001b[0m\n\u001b[0;32m----> 8\u001b[0;31m \u001b[0mstr\u001b[0m\u001b[0;34m[\u001b[0m\u001b[0;36m0\u001b[0m\u001b[0;34m]\u001b[0m\u001b[0;34m=\u001b[0m \u001b[0;34m\"N\"\u001b[0m \u001b[0;31m# This will throw an error that item assignment is not possible in strings\u001b[0m\u001b[0;34m\u001b[0m\u001b[0;34m\u001b[0m\u001b[0m\n\u001b[0m",
            "\u001b[0;31mTypeError\u001b[0m: 'type' object does not support item assignment"
          ]
        }
      ]
    },
    {
      "cell_type": "code",
      "source": [
        "#4. Discuss the different types of operators in Python and provide examples of how they are used.\n",
        "#Ans. Here are some types of operators in Python and examples of how they are used:\n",
        "# Arithmetic Operators\n",
        "a, b = 10, 3\n",
        "print(\"Addition:\", a + b)\n",
        "print(\"Subtraction:\", a - b)\n",
        "print(\"Multiplication:\", a * b)\n",
        "print(\"Division:\", a / b)\n",
        "print(\"Floor Division:\", a // b)\n",
        "print(\"Modulus:\", a % b)\n",
        "print(\"Exponentiation:\", a ** b)\n",
        "\n",
        "# Comparison Operators\n",
        "print(\"Equal:\", a == b)\n",
        "print(\"Not Equal:\", a != b)\n",
        "print(\"Greater:\", a > b)\n",
        "print(\"Less:\", a < b)\n",
        "print(\"Greater or Equal:\", a >= b)\n",
        "print(\"Less or Equal:\", a <= b)\n",
        "\n",
        "# Logical Operators\n",
        "x, y = True, False\n",
        "print(\"Logical AND:\", x and y)\n",
        "print(\"Logical OR:\", x or y)\n",
        "print(\"Logical NOT:\", not x)\n",
        "\n",
        "# Bitwise Operators\n",
        "print(\"Bitwise AND:\", a & b)\n",
        "print(\"Bitwise OR:\", a | b)\n",
        "print(\"Bitwise XOR:\", a ^ b)\n",
        "print(\"Bitwise NOT:\", ~a)\n",
        "print(\"Left Shift:\", a << 1)\n",
        "print(\"Right Shift:\", a >> 1)\n",
        "\n",
        "# Assignment Operators\n",
        "c = 5\n",
        "c += 2  # c = c + 2\n",
        "print(\"Add and Assign:\", c)\n",
        "c *= 3  # c = c * 3\n",
        "print(\"Multiply and Assign:\", c)\n",
        "c //= 2  # c = c // 2\n",
        "print(\"Floor Divide and Assign:\", c)\n",
        "\n",
        "# Identity Operators\n",
        "d = [1, 2, 3]\n",
        "e = d\n",
        "f = [1, 2, 3]\n",
        "print(\"Identity 'is':\", d is e)\n",
        "print(\"Identity 'is not':\", d is not f)\n",
        "\n",
        "# Membership Operators\n",
        "print(\"Membership 'in':\", 2 in d)\n",
        "print(\"Membership 'not in':\", 4 not in d)\n",
        "\n"
      ],
      "metadata": {
        "colab": {
          "base_uri": "https://localhost:8080/"
        },
        "id": "VDxpVt1nlEWj",
        "outputId": "8245f240-2b9b-4dd2-d598-acfa56e76406"
      },
      "execution_count": null,
      "outputs": [
        {
          "output_type": "stream",
          "name": "stdout",
          "text": [
            "Addition: 13\n",
            "Subtraction: 7\n",
            "Multiplication: 30\n",
            "Division: 3.3333333333333335\n",
            "Floor Division: 3\n",
            "Modulus: 1\n",
            "Exponentiation: 1000\n",
            "Equal: False\n",
            "Not Equal: True\n",
            "Greater: True\n",
            "Less: False\n",
            "Greater or Equal: True\n",
            "Less or Equal: False\n",
            "Logical AND: False\n",
            "Logical OR: True\n",
            "Logical NOT: False\n",
            "Bitwise AND: 2\n",
            "Bitwise OR: 11\n",
            "Bitwise XOR: 9\n",
            "Bitwise NOT: -11\n",
            "Left Shift: 20\n",
            "Right Shift: 5\n",
            "Add and Assign: 7\n",
            "Multiply and Assign: 21\n",
            "Floor Divide and Assign: 10\n",
            "Identity 'is': True\n",
            "Identity 'is not': True\n",
            "Membership 'in': True\n",
            "Membership 'not in': True\n"
          ]
        }
      ]
    },
    {
      "cell_type": "code",
      "source": [
        "#5  Explain the concept of type casting in Python with examples\n",
        "#Ans. Type casting in Python refers to the process of converting a variable from one data type to another.\n",
        "#Python provides built-in functions for type casting, such as int(), float(), str(), and list(). Below is an explanation along with examples in one block of code:\n",
        "\n",
        "# Example of type casting in Python\n",
        "\n",
        "# 1. Integer to float\n",
        "num = 10\n",
        "float_num = float(num)  # Converts integer to float\n",
        "print(\"Integer to float:\", float_num)  # Output: 10.0\n",
        "\n",
        "# 2. Float to integer\n",
        "decimal = 5.7\n",
        "int_num = int(decimal)  # Converts float to integer (truncates decimal part)\n",
        "print(\"Float to integer:\", int_num)  # Output: 5\n",
        "\n",
        "# 3. String to integer\n",
        "string_num = \"123\"\n",
        "int_from_str = int(string_num)  # Converts string to integer\n",
        "print(\"String to integer:\", int_from_str)  # Output: 123\n",
        "\n",
        "# 4. Integer to string\n",
        "num = 45\n",
        "string_from_int = str(num)  # Converts integer to string\n",
        "print(\"Integer to string:\", string_from_int)  # Output: \"45\"\n",
        "\n"
      ],
      "metadata": {
        "colab": {
          "base_uri": "https://localhost:8080/"
        },
        "id": "6zn0rYZskIzq",
        "outputId": "b8c0263a-4819-4917-ceeb-0bc604e3a202"
      },
      "execution_count": null,
      "outputs": [
        {
          "output_type": "stream",
          "name": "stdout",
          "text": [
            "Integer to float: 10.0\n",
            "Float to integer: 5\n",
            "String to integer: 123\n",
            "Integer to string: 45\n"
          ]
        }
      ]
    },
    {
      "cell_type": "code",
      "source": [
        "#6. How do conditional statements work in Python? Illustrate with examples0\n",
        "#Conditional statements in Python allow you to execute a block of code based on a condition.\n",
        "#The most common conditional statements are if, elif, and else. Here's how they work:\n",
        "# Example 1: Simple if statement\n",
        "x = 10\n",
        "if x > 5:\n",
        "    print(\"x is greater than 5\")\n",
        "\n",
        "# Example 2: if-else statement\n",
        "y = 3\n",
        "if y % 2 == 0:\n",
        "    print(\"y is even\")\n",
        "else:\n",
        "    print(\"y is odd\")\n",
        "\n",
        "# Example 3: if-elif-else statement\n",
        "z = 0\n",
        "if z > 0:\n",
        "    print(\"z is positive\")\n",
        "elif z < 0:\n",
        "    print(\"z is negative\")\n",
        "else:\n",
        "    print(\"z is zero\")\n",
        "\n",
        "# Example 4: Nested if statements\n",
        "a = 15\n",
        "if a > 10:\n",
        "    if a < 20:\n",
        "        print(\"a is between 10 and 20\")\n",
        "    else:\n",
        "        print(\"a is 20 or more\")"
      ],
      "metadata": {
        "colab": {
          "base_uri": "https://localhost:8080/"
        },
        "id": "4hSaGjRxkHz9",
        "outputId": "20d8fd91-85af-493c-9d1e-642eb6998573"
      },
      "execution_count": null,
      "outputs": [
        {
          "output_type": "stream",
          "name": "stdout",
          "text": [
            "x is greater than 5\n",
            "y is odd\n",
            "z is zero\n",
            "a is between 10 and 20\n"
          ]
        }
      ]
    },
    {
      "cell_type": "code",
      "source": [
        "#7. Describe the different types of loops in Python and their use cases with examples\n",
        "# 1. FOR LOOP\n",
        "# Use Case: Iterates over a sequence (like a list, tuple, string, or range).\n",
        "# Example: Print numbers from 1 to 5\n",
        "for i in range(1, 6):\n",
        "    print(f\"For Loop: {i}\")\n",
        "\n",
        "# 2. WHILE LOOP\n",
        "# Use Case: Repeats as long as a condition is True.\n",
        "# Example: Print numbers from 1 to 5\n",
        "i = 1\n",
        "while i <= 5:\n",
        "    print(f\"While Loop: {i}\")\n",
        "    i += 1\n",
        "\n",
        "# 3. NESTED LOOPS\n",
        "# Use Case: A loop inside another loop, used for multi-dimensional data processing.\n",
        "# Example: Print a 2x3 grid of numbers\n",
        "for i in range(2):  # Outer loop for rows\n",
        "    for j in range(3):  # Inner loop for columns\n",
        "        print(f\"Nested Loop (i={i}, j={j})\", end=\" \")\n",
        "    print()  # New line after each row\n",
        "\n",
        "# 4. INFINITE LOOPS\n",
        "# Use Case: Runs forever unless explicitly stopped; used in servers or interactive programs.\n",
        "# Example: A controlled infinite loop (Stopped manually or via break)\n",
        "count = 0\n",
        "while True:\n",
        "    print(f\"Infinite Loop Example: {count}\")\n",
        "    count += 1\n",
        "    if count == 3:  # Break after 3 iterations\n",
        "        break\n",
        "\n",
        "# 5. LOOP WITH ELSE\n",
        "# Use Case: Executes the `else` block if the loop ends naturally without a break.\n",
        "# Example: Check if a number is prime\n",
        "num = 7\n",
        "for i in range(2, num):\n",
        "    if num % i == 0:\n",
        "        print(f\"{num} is not a prime number\")\n",
        "        break\n",
        "else:\n",
        "    print(f\"{num} is a prime number\")\n",
        "\n",
        "# 6. BREAK AND CONTINUE STATEMENTS\n",
        "# Use Case: `break` exits the loop; `continue` skips the rest of the current iteration.\n",
        "# Example: Print numbers but skip 3 and stop after 4\n",
        "for i in range(1, 6):\n",
        "    if i == 3:\n",
        "        continue  # Skip 3\n",
        "    elif i == 5:\n",
        "        break  # Stop loop at 5\n",
        "    print(f\"Break/Continue Example: {i}\")\n"
      ],
      "metadata": {
        "colab": {
          "base_uri": "https://localhost:8080/"
        },
        "id": "WVq0ezf9kHgq",
        "outputId": "e6ffa713-5621-4fd6-97d6-010b5be40c1f"
      },
      "execution_count": null,
      "outputs": [
        {
          "output_type": "stream",
          "name": "stdout",
          "text": [
            "For Loop: 1\n",
            "For Loop: 2\n",
            "For Loop: 3\n",
            "For Loop: 4\n",
            "For Loop: 5\n",
            "While Loop: 1\n",
            "While Loop: 2\n",
            "While Loop: 3\n",
            "While Loop: 4\n",
            "While Loop: 5\n",
            "Nested Loop (i=0, j=0) Nested Loop (i=0, j=1) Nested Loop (i=0, j=2) \n",
            "Nested Loop (i=1, j=0) Nested Loop (i=1, j=1) Nested Loop (i=1, j=2) \n",
            "Infinite Loop Example: 0\n",
            "Infinite Loop Example: 1\n",
            "Infinite Loop Example: 2\n",
            "7 is a prime number\n",
            "Break/Continue Example: 1\n",
            "Break/Continue Example: 2\n",
            "Break/Continue Example: 4\n"
          ]
        }
      ]
    },
    {
      "cell_type": "code",
      "source": [],
      "metadata": {
        "id": "XmxQwYxukGjH"
      },
      "execution_count": null,
      "outputs": []
    },
    {
      "cell_type": "code",
      "source": [],
      "metadata": {
        "id": "v_bFz9NtkFgf"
      },
      "execution_count": null,
      "outputs": []
    },
    {
      "cell_type": "code",
      "source": [],
      "metadata": {
        "id": "Wb-byxoolEgz"
      },
      "execution_count": null,
      "outputs": []
    },
    {
      "cell_type": "code",
      "source": [],
      "metadata": {
        "id": "nLcqdSi_lEyF"
      },
      "execution_count": null,
      "outputs": []
    }
  ]
}