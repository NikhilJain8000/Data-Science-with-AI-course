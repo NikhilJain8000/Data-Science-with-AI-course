{
  "nbformat": 4,
  "nbformat_minor": 0,
  "metadata": {
    "colab": {
      "provenance": [],
      "authorship_tag": "ABX9TyPE+FyfJ53Igqn0P+gSpPlj",
      "include_colab_link": true
    },
    "kernelspec": {
      "name": "python3",
      "display_name": "Python 3"
    },
    "language_info": {
      "name": "python"
    }
  },
  "cells": [
    {
      "cell_type": "markdown",
      "metadata": {
        "id": "view-in-github",
        "colab_type": "text"
      },
      "source": [
        "<a href=\"https://colab.research.google.com/github/NikhilJain8000/Data-Science-with-AI-course/blob/main/Function.ipynb\" target=\"_parent\"><img src=\"https://colab.research.google.com/assets/colab-badge.svg\" alt=\"Open In Colab\"/></a>"
      ]
    },
    {
      "cell_type": "markdown",
      "source": [
        "# **Theory Questions:**"
      ],
      "metadata": {
        "id": "cgyjUf2vBJqc"
      }
    },
    {
      "cell_type": "code",
      "source": [
        "#1. What is the difference between a function and a method in Python?\n",
        "'''Definition Scope:\n",
        "Function: Defined outside classes.\n",
        "Method: Defined within a class.\n",
        "\n",
        "Associated With:\n",
        "Function: Independent (not tied to objects).\n",
        "Method: Associated with objects/classes.\n",
        "\n",
        "Calling Syntax:\n",
        "Function: function_name(args).\n",
        "Method: object.method_name(args).\n",
        "\n",
        "Self Parameter:\n",
        "Function: No implicit self parameter.\n",
        "Method: Includes self (for instance methods).\n",
        "\n",
        "Access to Data:\n",
        "Function: Cannot access or modify object attributes directly.\n",
        "Method: Can access/modify object attributes via self.'''"
      ],
      "metadata": {
        "colab": {
          "base_uri": "https://localhost:8080/",
          "height": 70
        },
        "id": "vKJ64NgjBTjg",
        "outputId": "254d2a99-8f38-4b06-a5ef-74eb7b82e8a0"
      },
      "execution_count": 1,
      "outputs": [
        {
          "output_type": "execute_result",
          "data": {
            "text/plain": [
              "'Definition Scope:\\nFunction: Defined outside classes.\\nMethod: Defined within a class.\\n\\nAssociated With:\\nFunction: Independent (not tied to objects).\\nMethod: Associated with objects/classes.\\n\\nCalling Syntax:\\nFunction: function_name(args).\\nMethod: object.method_name(args).\\n\\nSelf Parameter:\\nFunction: No implicit self parameter.\\nMethod: Includes self (for instance methods).\\n\\nAccess to Data:\\nFunction: Cannot access or modify object attributes directly.\\nMethod: Can access/modify object attributes via self.'"
            ],
            "application/vnd.google.colaboratory.intrinsic+json": {
              "type": "string"
            }
          },
          "metadata": {},
          "execution_count": 1
        }
      ]
    },
    {
      "cell_type": "code",
      "source": [
        "#2. Explain the concept of function arguments and parameters in Python?\n",
        "'''Parameters are defined in the function header to receive input.\n",
        "Arguments are the actual values provided to the function during a call.'''"
      ],
      "metadata": {
        "colab": {
          "base_uri": "https://localhost:8080/",
          "height": 36
        },
        "id": "pjSYIL8OBTor",
        "outputId": "4884152b-71ba-4399-d84f-4c095cd9f6e4"
      },
      "execution_count": 1,
      "outputs": [
        {
          "output_type": "execute_result",
          "data": {
            "text/plain": [
              "'Parameters are defined in the function header to receive input.\\nArguments are the actual values provided to the function during a call.'"
            ],
            "application/vnd.google.colaboratory.intrinsic+json": {
              "type": "string"
            }
          },
          "metadata": {},
          "execution_count": 1
        }
      ]
    },
    {
      "cell_type": "code",
      "source": [
        "#3.What are the different ways to define and call a function in Python?\n",
        "'''Direct call with arguments (function_name(args)).\n",
        "Using an instance or class (object.method() or Class.method()).\n",
        "Iterating over a generator or using next() for generator functions.\n",
        "Passing functions as arguments to other functions.\n",
        "Using predefined or customized decorators for special behavior.'''"
      ],
      "metadata": {
        "colab": {
          "base_uri": "https://localhost:8080/",
          "height": 53
        },
        "id": "way1Uy-fBTxP",
        "outputId": "f55f7fab-0016-4780-d62e-9a3a83c240b4"
      },
      "execution_count": 2,
      "outputs": [
        {
          "output_type": "execute_result",
          "data": {
            "text/plain": [
              "'Direct call with arguments (function_name(args)).\\nUsing an instance or class (object.method() or Class.method()).\\nIterating over a generator or using next() for generator functions.\\nPassing functions as arguments to other functions.\\nUsing predefined or customized decorators for special behavior.'"
            ],
            "application/vnd.google.colaboratory.intrinsic+json": {
              "type": "string"
            }
          },
          "metadata": {},
          "execution_count": 2
        }
      ]
    },
    {
      "cell_type": "code",
      "source": [
        "#4.What is the purpose of the `return` statement in a Python function?\n",
        "'''The return statement in a Python function serves the following purposes:\n",
        "\n",
        "To Send a Result Back:\n",
        "\n",
        "The return statement is used to send a value or result from a function to the caller.\n",
        "To End Function Execution:\n",
        "\n",
        "It terminates the execution of the function, and any code after the return statement within the function is not executed.\n",
        "To Allow Reusability:\n",
        "\n",
        "By returning a value, the result of the function can be reused elsewhere in the program.\n",
        "To Enable Function Composition:\n",
        "\n",
        "Returned values can be passed as inputs to other functions, enabling more modular and complex operations.\n",
        "To Provide Multiple Values:\n",
        "\n",
        "Python allows returning multiple values using tuples, which can simplify returning related data.\n",
        "To Return None (Optional):\n",
        "\n",
        "If no return statement is provided, or it is used without a value, the function implicitly returns None.'''"
      ],
      "metadata": {
        "colab": {
          "base_uri": "https://localhost:8080/",
          "height": 105
        },
        "id": "eqhWoLpYrrkK",
        "outputId": "48c8bcc3-4a55-4354-8be0-40a5369d6099"
      },
      "execution_count": 3,
      "outputs": [
        {
          "output_type": "execute_result",
          "data": {
            "text/plain": [
              "'The return statement in a Python function serves the following purposes:\\n\\nTo Send a Result Back:\\n\\nThe return statement is used to send a value or result from a function to the caller.\\nTo End Function Execution:\\n\\nIt terminates the execution of the function, and any code after the return statement within the function is not executed.\\nTo Allow Reusability:\\n\\nBy returning a value, the result of the function can be reused elsewhere in the program.\\nTo Enable Function Composition:\\n\\nReturned values can be passed as inputs to other functions, enabling more modular and complex operations.\\nTo Provide Multiple Values:\\n\\nPython allows returning multiple values using tuples, which can simplify returning related data.\\nTo Return None (Optional):\\n\\nIf no return statement is provided, or it is used without a value, the function implicitly returns None.'"
            ],
            "application/vnd.google.colaboratory.intrinsic+json": {
              "type": "string"
            }
          },
          "metadata": {},
          "execution_count": 3
        }
      ]
    },
    {
      "cell_type": "code",
      "source": [
        "#5. What are iterators in Python and how do they differ from iterables?\n",
        "'''Definition\tAn object used to traverse elements one at a time.\tAn object capable of returning an iterator.\n",
        "Methods Required\tMust implement __iter__() and __next__().\tMust implement __iter__() only.\n",
        "One-Time Use\tCan only be iterated once unless reinitialized.\tCan be iterated multiple times.\n",
        "Examples\tObjects from iter(), generators.\tLists, strings, tuples, dictionaries, etc.\n",
        "Creation\tExplicitly created using the iter() function or as part of a generator.\tAutomatically iterable (e.g., for loop).'''"
      ],
      "metadata": {
        "colab": {
          "base_uri": "https://localhost:8080/",
          "height": 70
        },
        "id": "bd4Llilnrrr1",
        "outputId": "52072691-d9ea-4621-f790-09b5942e9ed3"
      },
      "execution_count": 4,
      "outputs": [
        {
          "output_type": "execute_result",
          "data": {
            "text/plain": [
              "'Definition\\tAn object used to traverse elements one at a time.\\tAn object capable of returning an iterator.\\nMethods Required\\tMust implement __iter__() and __next__().\\tMust implement __iter__() only.\\nOne-Time Use\\tCan only be iterated once unless reinitialized.\\tCan be iterated multiple times.\\nExamples\\tObjects from iter(), generators.\\tLists, strings, tuples, dictionaries, etc.\\nCreation\\tExplicitly created using the iter() function or as part of a generator.\\tAutomatically iterable (e.g., for loop).'"
            ],
            "application/vnd.google.colaboratory.intrinsic+json": {
              "type": "string"
            }
          },
          "metadata": {},
          "execution_count": 4
        }
      ]
    },
    {
      "cell_type": "code",
      "source": [
        "#6.  Explain the concept of generators in Python and how they are defined.\n",
        "'''Generators are a special type of iterable in Python that allow you to produce a sequence of values lazily, meaning one at a time and only when required.\n",
        "They are memory-efficient and particularly useful for working with large datasets.\n",
        "Using a Generator Function:\n",
        "\n",
        "Defined like a regular function using the def keyword.\n",
        "Use the yield statement to produce values one at a time instead of return.\n",
        "The function execution is paused and resumed with each yield.\n",
        "\n",
        "Using Generator Expressions:\n",
        "\n",
        "Similar to list comprehensions but with parentheses () instead of square brackets [].\n",
        "More concise for simple generators.'''"
      ],
      "metadata": {
        "colab": {
          "base_uri": "https://localhost:8080/",
          "height": 88
        },
        "id": "TowYggFarrvm",
        "outputId": "12cd46d7-f42b-49cb-e67d-1adaa1ee39ae"
      },
      "execution_count": 5,
      "outputs": [
        {
          "output_type": "execute_result",
          "data": {
            "text/plain": [
              "'Generators are a special type of iterable in Python that allow you to produce a sequence of values lazily, meaning one at a time and only when required. \\nThey are memory-efficient and particularly useful for working with large datasets.\\nUsing a Generator Function:\\n\\nDefined like a regular function using the def keyword.\\nUse the yield statement to produce values one at a time instead of return.\\nThe function execution is paused and resumed with each yield.\\n\\nUsing Generator Expressions:\\n\\nSimilar to list comprehensions but with parentheses () instead of square brackets [].\\nMore concise for simple generators.'"
            ],
            "application/vnd.google.colaboratory.intrinsic+json": {
              "type": "string"
            }
          },
          "metadata": {},
          "execution_count": 5
        }
      ]
    },
    {
      "cell_type": "code",
      "source": [
        "#7.  What are the advantages of using generators over regular functions?\n",
        "'''Advantages of Using Generators Over Regular Functions:\n",
        "Memory Efficiency:\n",
        "\n",
        "Generators yield one value at a time, avoiding the need to store the entire data in memory. This is especially beneficial for large datasets or infinite sequences.\n",
        "Lazy Evaluation:\n",
        "\n",
        "Values are produced only when needed, reducing computation and memory overhead.\n",
        "State Preservation:\n",
        "\n",
        "Generators automatically save their execution state, allowing them to resume exactly where they left off. This simplifies working with sequences.\n",
        "Improved Performance:\n",
        "\n",
        "Generators are faster than building and returning a complete list in memory, particularly for large sequences.\n",
        "Ease of Implementation:\n",
        "\n",
        "With yield, generators can replace the need for manually maintaining the state and logic to produce values iteratively.\n",
        "Pipelining:\n",
        "\n",
        "Generators allow chaining of operations in a pipeline-like structure, improving code readability and efficiency (e.g., processing data streams).\n",
        "Handle Infinite Sequences:\n",
        "\n",
        "Unlike regular functions that return lists or arrays, generators can produce infinite sequences (e.g., Fibonacci numbers) without running out of memory.\n",
        "Better Code Readability:\n",
        "\n",
        "The use of yield in generators provides a clean and simple way to implement custom iterators, avoiding complex class-based iterator definitions.\n",
        "Reduced Overhead for Large Iterations:\n",
        "\n",
        "When only a subset of data is needed, generators avoid the cost of creating the entire data structure upfront.\n",
        "Convenient for File Handling:\n",
        "\n",
        "Generators are ideal for reading large files line-by-line, as they do not load the entire file into memory.'''\n"
      ],
      "metadata": {
        "colab": {
          "base_uri": "https://localhost:8080/",
          "height": 123
        },
        "id": "_RK5P7gRrrzS",
        "outputId": "379da1a7-ba50-4924-ff95-dab3e124bfb4"
      },
      "execution_count": 6,
      "outputs": [
        {
          "output_type": "execute_result",
          "data": {
            "text/plain": [
              "'Advantages of Using Generators Over Regular Functions:\\nMemory Efficiency:\\n\\nGenerators yield one value at a time, avoiding the need to store the entire data in memory. This is especially beneficial for large datasets or infinite sequences.\\nLazy Evaluation:\\n\\nValues are produced only when needed, reducing computation and memory overhead.\\nState Preservation:\\n\\nGenerators automatically save their execution state, allowing them to resume exactly where they left off. This simplifies working with sequences.\\nImproved Performance:\\n\\nGenerators are faster than building and returning a complete list in memory, particularly for large sequences.\\nEase of Implementation:\\n\\nWith yield, generators can replace the need for manually maintaining the state and logic to produce values iteratively.\\nPipelining:\\n\\nGenerators allow chaining of operations in a pipeline-like structure, improving code readability and efficiency (e.g., processing data streams).\\nHandle Infinite Sequences:\\n\\nUnlike regular functions that return lists or arrays, generators can produce infinite sequences (e.g., Fibonacci numbers) without running out of memory.\\nBetter Code Readability:\\n\\nThe use of yield in generators provides a clean and simple way to implement custom iterators, avoiding complex class-based iterator definitions.\\nReduced Overhead for Large Iterations:\\n\\nWhen only a subset of data is needed, generators avoid the cost of creating the entire data structure upfront.\\nConvenient for File Handling:\\n\\nGenerators are ideal for reading large files line-by-line, as they do not load the entire file into memory.'"
            ],
            "application/vnd.google.colaboratory.intrinsic+json": {
              "type": "string"
            }
          },
          "metadata": {},
          "execution_count": 6
        }
      ]
    },
    {
      "cell_type": "code",
      "source": [
        "#8. What is a lambda function in Python and when is it typically used?\n",
        "'''A lambda function in Python is a small, anonymous function defined using the lambda keyword.\n",
        "It is a single-expression function that is often used for short, simple operations where defining a full function might be unnecessary.\n",
        "Typical Use Cases:\n",
        "Short, Simple Functions:\n",
        "\n",
        "For quick computations without the need for a named function.\n",
        "Example: Calculations, filtering, or sorting.\n",
        "Arguments to Higher-Order Functions:\n",
        "\n",
        "Often passed as arguments to functions like map(), filter(), and sorted().\n",
        "Inline Functionality:\n",
        "\n",
        "When a function is needed temporarily and will not be reused.\n",
        "Improved Readability:\n",
        "\n",
        "Makes the code more concise, especially for single-use functions.\n",
        "Key Functions:\n",
        "\n",
        "Used with key arguments in functions like sorted() or min() to specify sorting or comparison criteria.'''"
      ],
      "metadata": {
        "colab": {
          "base_uri": "https://localhost:8080/",
          "height": 105
        },
        "id": "Mw9FC4x_rr3e",
        "outputId": "84e9737d-7cdf-463f-e5d9-ea27e4162452"
      },
      "execution_count": 8,
      "outputs": [
        {
          "output_type": "execute_result",
          "data": {
            "text/plain": [
              "'A lambda function in Python is a small, anonymous function defined using the lambda keyword.\\nIt is a single-expression function that is often used for short, simple operations where defining a full function might be unnecessary.\\nTypical Use Cases:\\nShort, Simple Functions:\\n\\nFor quick computations without the need for a named function.\\nExample: Calculations, filtering, or sorting.\\nArguments to Higher-Order Functions:\\n\\nOften passed as arguments to functions like map(), filter(), and sorted().\\nInline Functionality:\\n\\nWhen a function is needed temporarily and will not be reused.\\nImproved Readability:\\n\\nMakes the code more concise, especially for single-use functions.\\nKey Functions:\\n\\nUsed with key arguments in functions like sorted() or min() to specify sorting or comparison criteria.'"
            ],
            "application/vnd.google.colaboratory.intrinsic+json": {
              "type": "string"
            }
          },
          "metadata": {},
          "execution_count": 8
        }
      ]
    },
    {
      "cell_type": "code",
      "source": [
        "#9. Explain the purpose and usage of the `map()` function in Python.\n",
        "'''The map() function is used to apply a given function to every item in an iterable (e.g., list, tuple) and return a new iterable (typically a map object) containing the results.\n",
        "It simplifies the process of applying a transformation or computation to each element in a sequence.\n",
        "Example Use Cases:\n",
        "Single Iterable:\n",
        "\n",
        "Applying a function to each element of a list (e.g., convert temperatures from Celsius to Fahrenheit).\n",
        "Multiple Iterables:\n",
        "\n",
        "Adding corresponding elements from two lists.\n",
        "Using Lambda with map():\n",
        "\n",
        "Combine lambda for concise, inline transformations (e.g., multiplying list elements by a constant).'''"
      ],
      "metadata": {
        "colab": {
          "base_uri": "https://localhost:8080/",
          "height": 88
        },
        "id": "_pjHNd0qwAL8",
        "outputId": "da9b397f-d8f6-493c-bdfa-6833b8d25ae2"
      },
      "execution_count": 7,
      "outputs": [
        {
          "output_type": "execute_result",
          "data": {
            "text/plain": [
              "'The map() function is used to apply a given function to every item in an iterable (e.g., list, tuple) and return a new iterable (typically a map object) containing the results. \\nIt simplifies the process of applying a transformation or computation to each element in a sequence.\\nExample Use Cases:\\nSingle Iterable:\\n\\nApplying a function to each element of a list (e.g., convert temperatures from Celsius to Fahrenheit).\\nMultiple Iterables:\\n\\nAdding corresponding elements from two lists.\\nUsing Lambda with map():\\n\\nCombine lambda for concise, inline transformations (e.g., multiplying list elements by a constant).'"
            ],
            "application/vnd.google.colaboratory.intrinsic+json": {
              "type": "string"
            }
          },
          "metadata": {},
          "execution_count": 7
        }
      ]
    },
    {
      "cell_type": "code",
      "source": [
        "#10.What is the difference between `map()`, `reduce()`, and `filter()` functions in Python?\n",
        "'''1. map():\n",
        "Purpose: Applies a given function to every element in an iterable and returns a new iterable containing the results.\n",
        "Syntax: map(function, iterable, *iterables)\n",
        "Usage: Used to transform elements of a sequence (e.g., applying a mathematical operation or string transformation).\n",
        "\n",
        "2. reduce():\n",
        "Purpose: Applies a given function cumulatively to the items of an iterable, reducing the iterable to a single accumulated result.\n",
        "Syntax: reduce(function, iterable)\n",
        "Usage: Used for combining elements by performing a repetitive operation, like summing or multiplying elements.\n",
        "\n",
        "3. filter():\n",
        "Purpose: Filters elements from an iterable based on a given function, keeping only elements that return True.\n",
        "Syntax: filter(function, iterable)\n",
        "Usage: Used to filter items based on a condition, like checking for even numbers or valid strings.'''"
      ],
      "metadata": {
        "colab": {
          "base_uri": "https://localhost:8080/",
          "height": 105
        },
        "id": "0fD-46cDwAPX",
        "outputId": "255c3275-cc42-4043-c7ec-f77ca4b869b6"
      },
      "execution_count": 9,
      "outputs": [
        {
          "output_type": "execute_result",
          "data": {
            "text/plain": [
              "'1. map():\\nPurpose: Applies a given function to every element in an iterable and returns a new iterable containing the results.\\nSyntax: map(function, iterable, *iterables)\\nUsage: Used to transform elements of a sequence (e.g., applying a mathematical operation or string transformation).\\n\\n2. reduce():\\nPurpose: Applies a given function cumulatively to the items of an iterable, reducing the iterable to a single accumulated result.\\nSyntax: reduce(function, iterable)\\nUsage: Used for combining elements by performing a repetitive operation, like summing or multiplying elements.\\n\\n3. filter():\\nPurpose: Filters elements from an iterable based on a given function, keeping only elements that return True.\\nSyntax: filter(function, iterable)\\nUsage: Used to filter items based on a condition, like checking for even numbers or valid strings.'"
            ],
            "application/vnd.google.colaboratory.intrinsic+json": {
              "type": "string"
            }
          },
          "metadata": {},
          "execution_count": 9
        }
      ]
    },
    {
      "cell_type": "markdown",
      "source": [
        "# **Practical Questions:**"
      ],
      "metadata": {
        "id": "zwNcBwaC5Ro0"
      }
    },
    {
      "cell_type": "code",
      "source": [
        "#1. Write a Python function that takes a list of numbers as input and returns the sum of all even numbers in the list.\n",
        "def sum_even_numbers(numbers):\n",
        "    even_sum = 0\n",
        "    for num in numbers:\n",
        "        if num % 2 == 0:\n",
        "            even_sum += num\n",
        "    return even_sum"
      ],
      "metadata": {
        "id": "3jrB7sS35XcH"
      },
      "execution_count": 10,
      "outputs": []
    },
    {
      "cell_type": "code",
      "source": [
        "#2.Create a Python function that accepts a string and returns the reverse of that string.\n",
        "def reverse_string(s):\n",
        "  return s[::-1]"
      ],
      "metadata": {
        "id": "NvQ-CWFz5XgY"
      },
      "execution_count": 11,
      "outputs": []
    },
    {
      "cell_type": "code",
      "source": [
        "#3. Implement a Python function that takes a list of integers and returns a new list containing the squares of each number.\n",
        "l1=map(int, input(\"Enter your list \").split(','))\n",
        "squared_list=list(map(lambda x: x**2, l1))\n",
        "print(squared_list)"
      ],
      "metadata": {
        "colab": {
          "base_uri": "https://localhost:8080/"
        },
        "id": "i8I2ppHY5Xk_",
        "outputId": "d034a47a-451b-4f38-947d-e27502731bc2"
      },
      "execution_count": 12,
      "outputs": [
        {
          "output_type": "stream",
          "name": "stdout",
          "text": [
            "Enter your list 2,4,53456,55,6\n",
            "[4, 16, 2857543936, 3025, 36]\n"
          ]
        }
      ]
    },
    {
      "cell_type": "code",
      "source": [
        "#4. Write a Python function that checks if a given number is prime or not from 1 to 200.\n",
        "def is_prime(num):\n",
        "    if num <= 1:\n",
        "        return False\n",
        "    if num <= 3:\n",
        "        return True\n",
        "    if num % 2 == 0 or num % 3 == 0:\n",
        "        return False\n"
      ],
      "metadata": {
        "id": "8nRzTQ1d5XwY"
      },
      "execution_count": 14,
      "outputs": []
    },
    {
      "cell_type": "code",
      "source": [
        "#5. Create an iterator class in Python that generates the Fibonacci sequence up to a specified number of terms.\n",
        "class FibonacciIterator:\n",
        "    def __init__(self, num_terms):\n",
        "        self.num_terms = num_terms\n",
        "        self.current = 0\n",
        "        self.prev = 1\n",
        "\n",
        "    def __iter__(self):\n",
        "        return self\n",
        "\n",
        "    def __next__(self):\n",
        "        if self.current >= self.num_terms:\n",
        "            raise StopIteration\n",
        "\n",
        "        if self.current == 0:\n",
        "            self.current += 1\n",
        "            return 0\n",
        "        elif self.current == 1:\n",
        "            self.current += 1\n",
        "            return 1\n",
        "        else:\n",
        "            next_term = self.prev + self.current\n",
        "            self.prev = self.current\n",
        "            self.current = next_term\n",
        "            return self.current\n",
        "\n",
        "# Example usage\n",
        "fib_iterator = FibonacciIterator(10)\n",
        "\n",
        "for num in fib_iterator:\n",
        "    print(num)\n"
      ],
      "metadata": {
        "colab": {
          "base_uri": "https://localhost:8080/"
        },
        "id": "TnDIWuNq790W",
        "outputId": "c4937a1b-e9a7-40d0-d12a-e7b0546dc83f"
      },
      "execution_count": 16,
      "outputs": [
        {
          "output_type": "stream",
          "name": "stdout",
          "text": [
            "0\n",
            "1\n",
            "3\n",
            "5\n",
            "8\n",
            "13\n"
          ]
        }
      ]
    },
    {
      "cell_type": "code",
      "source": [
        "#6. Write a generator function in Python that yields the powers of 2 up to a given exponent.\n",
        "def power_upto_given_exponent(exponent):\n",
        "    power = 1\n",
        "    for i in range(exponent + 1):\n",
        "        yield power\n",
        "        power *= 2"
      ],
      "metadata": {
        "id": "-AbOhKDj794S"
      },
      "execution_count": 17,
      "outputs": []
    },
    {
      "cell_type": "code",
      "source": [
        "#7.  Implement a generator function that reads a file line by line and yields each line as a string.\n",
        "def read_file_line_by_line(file_path):\n",
        "    with open(file_path, 'r') as file:\n",
        "        for line in file:\n",
        "            yield line.strip()"
      ],
      "metadata": {
        "id": "H-lefo0IHouS"
      },
      "execution_count": 18,
      "outputs": []
    },
    {
      "cell_type": "code",
      "source": [
        "#8. Use a lambda function in Python to sort a list of tuples based on the second element of each tuple.\n",
        "data = [(1, 5), (3, 2), (2, 8), (4, 1)]\n",
        "sorted_data = sorted(data, key=lambda x: x[1])\n",
        "print(sorted_data)"
      ],
      "metadata": {
        "colab": {
          "base_uri": "https://localhost:8080/"
        },
        "id": "oTIsoB6mHoyB",
        "outputId": "2b9cd490-7e8b-49f5-adf8-c820ed21acb2"
      },
      "execution_count": 19,
      "outputs": [
        {
          "output_type": "stream",
          "name": "stdout",
          "text": [
            "[(4, 1), (3, 2), (1, 5), (2, 8)]\n"
          ]
        }
      ]
    },
    {
      "cell_type": "code",
      "source": [
        "#9. Write a Python program that uses `map()` to convert a list of temperatures from Celsius to Fahrenheit.\n",
        "celsius_temperatures = map(int, input(\"Enter the temperatures you want to convert \").split(','))\n",
        "fahrenheit_temperatures = list(map(lambda c: (c * 9/5) + 32, celsius_temperatures))\n",
        "print(fahrenheit_temperatures)"
      ],
      "metadata": {
        "colab": {
          "base_uri": "https://localhost:8080/"
        },
        "id": "0Nc22jhlHo14",
        "outputId": "8b9f11fc-d5e0-457f-f289-6913aad337ad"
      },
      "execution_count": 22,
      "outputs": [
        {
          "output_type": "stream",
          "name": "stdout",
          "text": [
            "Enter the temperatures you want to convert 3,4356,3,34,346,3\n",
            "[37.4, 7872.8, 37.4, 93.2, 654.8, 37.4]\n"
          ]
        }
      ]
    },
    {
      "cell_type": "code",
      "source": [
        "#10. Create a Python program that uses `filter()` to remove all the vowels from a given string.\n",
        "s=input(\"Enter your string \")\n",
        "vowels = ['a', 'e', 'i', 'o', 'u', 'A', 'E', 'I', 'O', 'U']\n",
        "filtered_string = ''.join(filter(lambda x: x not in vowels, s))\n",
        "print(filtered_string)"
      ],
      "metadata": {
        "colab": {
          "base_uri": "https://localhost:8080/"
        },
        "id": "k9aRY5ysKrfJ",
        "outputId": "8f0e0c67-620e-42c1-d439-0e7db722a9c6"
      },
      "execution_count": 23,
      "outputs": [
        {
          "output_type": "stream",
          "name": "stdout",
          "text": [
            "Enter your string sdfguaaigA\n",
            "sdfgg\n"
          ]
        }
      ]
    }
  ]
}